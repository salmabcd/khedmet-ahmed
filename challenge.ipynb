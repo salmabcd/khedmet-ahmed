{
 "cells": [
  {
   "cell_type": "code",
   "execution_count": null,
   "id": "bb947975-2214-4988-a112-1fdf4179a180",
   "metadata": {
    "tags": []
   },
   "outputs": [],
   "source": [
    "#challenge 1\n",
    "def is_repdigit(num):\n",
    "    for i in range(len(num)):\n",
    "        if num[0]!=num[i]:\n",
    "            return False\n",
    "    return True\n",
    "num=input('Enter Number: ')\n",
    "is_repdigit(num)"
   ]
  },
  {
   "cell_type": "code",
   "execution_count": null,
   "id": "7a586124-d418-4441-b88d-e186a64c7385",
   "metadata": {},
   "outputs": [],
   "source": [
    "#challenge 2\n",
    "def get_indices(list):\n",
    "    dict={}\n",
    "    for i in list:\n",
    "        s=list.count(i)\n",
    "        dict[i]=s\n",
    "    print(dict)    \n",
    "l=[]\n",
    "a=int(input('enter your list length: '))\n",
    "for z in range (a):\n",
    "    f=input('enter your list element : ')\n",
    "    l.append(f)\n",
    "print(l)\n",
    "get_indices(l)"
   ]
  },
  {
   "cell_type": "code",
   "execution_count": null,
   "id": "f94a3567-c27c-4f0a-9a71-fcfb3b0235fb",
   "metadata": {},
   "outputs": [],
   "source": [
    "#challenge 3\n",
    "def construct_deconstract(word):\n",
    "    for i in range (len(word)):\n",
    "        print(word[:i+1])\n",
    "    for f in range (len(word)):\n",
    "        print(word[:-f-1])\n",
    "w=input('enter your word: ')\n",
    "construct_deconstract(w)"
   ]
  },
  {
   "cell_type": "code",
   "execution_count": null,
   "id": "532c0b79-6221-4d58-b2bf-68c583b8d592",
   "metadata": {},
   "outputs": [],
   "source": [
    "#challenge 4\n",
    "def mystery_func(num):\n",
    "    s=1\n",
    "    for i in range (len(num)):\n",
    "        f=int(num[i])\n",
    "        s=s*f\n",
    "    print(s)\n",
    "a=input('enter number: ')\n",
    "print(a)\n",
    "mystery_func(a)"
   ]
  },
  {
   "cell_type": "code",
   "execution_count": null,
   "id": "de5d06bf-ebf4-4846-9a92-4a4a9e0bab13",
   "metadata": {},
   "outputs": [],
   "source": [
    "#challenge 5\n",
    "def move_zeros(list):\n",
    "    for i in range (len(list)):\n",
    "        if list[i]==('0'):\n",
    "            list.remove(list[i])\n",
    "            list.append('0')\n",
    "        else:\n",
    "            continue\n",
    "    print(list)\n",
    "l=[]\n",
    "a=int(input('enter your list length: '))\n",
    "for f in range (a):\n",
    "    w=input('enter your list element: ')\n",
    "    l.append(w)\n",
    "print(l)\n",
    "move_zeros(l)"
   ]
  },
  {
   "cell_type": "code",
   "execution_count": null,
   "id": "d172cd0d-2a55-42b8-8c57-428ca05e1254",
   "metadata": {},
   "outputs": [],
   "source": []
  }
 ],
 "metadata": {
  "kernelspec": {
   "display_name": "Python 3",
   "language": "python",
   "name": "python3"
  },
  "language_info": {
   "codemirror_mode": {
    "name": "ipython",
    "version": 3
   },
   "file_extension": ".py",
   "mimetype": "text/x-python",
   "name": "python",
   "nbconvert_exporter": "python",
   "pygments_lexer": "ipython3",
   "version": "3.8.8"
  }
 },
 "nbformat": 4,
 "nbformat_minor": 5
}
